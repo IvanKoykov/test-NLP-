{
 "cells": [
  {
   "cell_type": "code",
   "execution_count": 1,
   "id": "6dc4d2e8",
   "metadata": {},
   "outputs": [
    {
     "name": "stderr",
     "output_type": "stream",
     "text": [
      "[nltk_data] Downloading package stopwords to\n",
      "[nltk_data]     C:\\Users\\KoikovID\\AppData\\Roaming\\nltk_data...\n",
      "[nltk_data]   Package stopwords is already up-to-date!\n"
     ]
    },
    {
     "data": {
      "text/plain": [
       "True"
      ]
     },
     "execution_count": 1,
     "metadata": {},
     "output_type": "execute_result"
    }
   ],
   "source": [
    "import pandas as pd\n",
    "import nltk\n",
    "import pymorphy2\n",
    "import re\n",
    "import numpy as np\n",
    "from pymorphy2 import MorphAnalyzer\n",
    "from nltk.corpus import stopwords\n",
    "nltk.download('stopwords')"
   ]
  },
  {
   "cell_type": "code",
   "execution_count": 2,
   "id": "4a0d8875",
   "metadata": {},
   "outputs": [],
   "source": [
    "df=pd.read_csv('test_data.csv')"
   ]
  },
  {
   "cell_type": "code",
   "execution_count": 4,
   "id": "6890dafe",
   "metadata": {},
   "outputs": [],
   "source": [
    "def search_two_part_word(doc):\n",
    "    doc=doc.lower()\n",
    "    doc=doc.replace('до свидания', 'до_свидания')\n",
    "    doc=doc.replace('до завтра', 'до_завтра')\n",
    "    doc=doc.replace('добрый день', 'добрый_день')\n",
    "    doc=doc.replace('добрый вечер', 'добрый_вечер')\n",
    "    doc=doc.replace('доброе утро', 'доброе_утро')\n",
    "    return doc\n",
    "        "
   ]
  },
  {
   "cell_type": "code",
   "execution_count": 5,
   "id": "459329cc",
   "metadata": {},
   "outputs": [],
   "source": [
    "def search_name(doc):\n",
    "    # probability score threshold\n",
    "    prob_thresh = 0.4\n",
    "    name=0\n",
    "    morph = pymorphy2.MorphAnalyzer()\n",
    "    for word in nltk.word_tokenize(doc.text):\n",
    "        #print(word,\"  aaaaaaaa\")\n",
    "        for p in morph.parse(word):\n",
    "            #print(p,\"   sssss\")\n",
    "            if 'Name' in p.tag and p.score >= prob_thresh:\n",
    "                #print('{:<12}\\t({:>12})\\tscore:\\t{:0.3}\\t{}'.format(word, p.normal_form, p.score,doc['index']))\n",
    "                name=word\n",
    "                \n",
    "    return name"
   ]
  },
  {
   "cell_type": "code",
   "execution_count": 6,
   "id": "d7d89f91",
   "metadata": {},
   "outputs": [],
   "source": [
    "def search_greeting_farewell(doc):\n",
    "    dict_welcome=['здравствуйте','добрый_день']\n",
    "    dict_goodbye=['до_свидания','пока']\n",
    "    temp={}\n",
    "    for token in doc.text.split():\n",
    "        if token in dict_welcome:\n",
    "            temp='welcome'\n",
    "        elif token in dict_goodbye:\n",
    "            temp='goodbye'\n",
    "    return temp"
   ]
  },
  {
   "cell_type": "code",
   "execution_count": 7,
   "id": "2a35d3f6",
   "metadata": {},
   "outputs": [],
   "source": [
    "df_for_lematize=df.text"
   ]
  },
  {
   "cell_type": "code",
   "execution_count": 8,
   "id": "d3503320",
   "metadata": {},
   "outputs": [],
   "source": [
    "df_for_lematize=df_for_lematize.apply(search_two_part_word)"
   ]
  },
  {
   "cell_type": "code",
   "execution_count": 9,
   "id": "4e85daf3",
   "metadata": {},
   "outputs": [],
   "source": [
    "serch_name=df_for_lematize.reset_index().apply(search_name,axis=1)"
   ]
  },
  {
   "cell_type": "code",
   "execution_count": 10,
   "id": "732dbe6e",
   "metadata": {},
   "outputs": [],
   "source": [
    "#serch_name"
   ]
  },
  {
   "cell_type": "code",
   "execution_count": 11,
   "id": "3acfd7b0",
   "metadata": {},
   "outputs": [],
   "source": [
    "greet_farew=df_for_lematize.reset_index().apply(search_greeting_farewell,axis=1)"
   ]
  },
  {
   "cell_type": "code",
   "execution_count": 12,
   "id": "1a2aa821",
   "metadata": {},
   "outputs": [],
   "source": [
    "#serch_name"
   ]
  },
  {
   "cell_type": "code",
   "execution_count": 13,
   "id": "4acac7e6",
   "metadata": {},
   "outputs": [],
   "source": [
    "df['idx_name']=serch_name"
   ]
  },
  {
   "cell_type": "code",
   "execution_count": 14,
   "id": "87f5125d",
   "metadata": {},
   "outputs": [],
   "source": [
    "df[\"welcome\"] = \"\"\n",
    "df[\"goodbye\"] = \"\""
   ]
  },
  {
   "cell_type": "code",
   "execution_count": 15,
   "id": "7d3320c5",
   "metadata": {},
   "outputs": [
    {
     "name": "stderr",
     "output_type": "stream",
     "text": [
      "<ipython-input-15-a91333a2c5f2>:9: SettingWithCopyWarning: \n",
      "A value is trying to be set on a copy of a slice from a DataFrame\n",
      "\n",
      "See the caveats in the documentation: https://pandas.pydata.org/pandas-docs/stable/user_guide/indexing.html#returning-a-view-versus-a-copy\n",
      "  df['welcome'][i]=0\n",
      "<ipython-input-15-a91333a2c5f2>:10: SettingWithCopyWarning: \n",
      "A value is trying to be set on a copy of a slice from a DataFrame\n",
      "\n",
      "See the caveats in the documentation: https://pandas.pydata.org/pandas-docs/stable/user_guide/indexing.html#returning-a-view-versus-a-copy\n",
      "  df['goodbye'][i]=0\n",
      "<ipython-input-15-a91333a2c5f2>:3: SettingWithCopyWarning: \n",
      "A value is trying to be set on a copy of a slice from a DataFrame\n",
      "\n",
      "See the caveats in the documentation: https://pandas.pydata.org/pandas-docs/stable/user_guide/indexing.html#returning-a-view-versus-a-copy\n",
      "  df['welcome'][i]=1\n",
      "<ipython-input-15-a91333a2c5f2>:4: SettingWithCopyWarning: \n",
      "A value is trying to be set on a copy of a slice from a DataFrame\n",
      "\n",
      "See the caveats in the documentation: https://pandas.pydata.org/pandas-docs/stable/user_guide/indexing.html#returning-a-view-versus-a-copy\n",
      "  df['goodbye'][i]=0\n",
      "<ipython-input-15-a91333a2c5f2>:6: SettingWithCopyWarning: \n",
      "A value is trying to be set on a copy of a slice from a DataFrame\n",
      "\n",
      "See the caveats in the documentation: https://pandas.pydata.org/pandas-docs/stable/user_guide/indexing.html#returning-a-view-versus-a-copy\n",
      "  df['welcome'][i]=0\n",
      "<ipython-input-15-a91333a2c5f2>:7: SettingWithCopyWarning: \n",
      "A value is trying to be set on a copy of a slice from a DataFrame\n",
      "\n",
      "See the caveats in the documentation: https://pandas.pydata.org/pandas-docs/stable/user_guide/indexing.html#returning-a-view-versus-a-copy\n",
      "  df['goodbye'][i]=1\n"
     ]
    }
   ],
   "source": [
    "for i,el in enumerate(greet_farew):\n",
    "    if el =='welcome':\n",
    "        df['welcome'][i]=1\n",
    "        df['goodbye'][i]=0\n",
    "    elif el==\"goodbye\":\n",
    "        df['welcome'][i]=0\n",
    "        df['goodbye'][i]=1\n",
    "    else:\n",
    "        df['welcome'][i]=0\n",
    "        df['goodbye'][i]=0\n"
   ]
  },
  {
   "cell_type": "code",
   "execution_count": 16,
   "id": "052b4ac6",
   "metadata": {},
   "outputs": [],
   "source": [
    "df_only_manager=df[df.role=='manager']"
   ]
  },
  {
   "cell_type": "code",
   "execution_count": 17,
   "id": "8f87ce7b",
   "metadata": {},
   "outputs": [],
   "source": [
    "#df_only_manager"
   ]
  },
  {
   "cell_type": "code",
   "execution_count": 18,
   "id": "22c25159",
   "metadata": {},
   "outputs": [],
   "source": [
    "final={}\n",
    "for i in df_only_manager.dlg_id.unique():\n",
    "    temp={}\n",
    "    #print( df_only_manager[['text','role']][df_only_manager.dlg_id==i][df_only_manager.welcome!=0])\n",
    "    #print( df_only_manager[df_only_manager.dlg_id==i][df_only_manager.idx_name!=0])\n",
    "    try:\n",
    "        temp['welcome']=(df_only_manager.text[df_only_manager.dlg_id==i][df_only_manager.welcome!=0].values[0])  \n",
    "    except:\n",
    "        temp['welcome']='-'\n",
    "    try:\n",
    "         temp['goodbye']=(df_only_manager.text[df_only_manager.dlg_id==i][df_only_manager.goodbye!=0].values[0])\n",
    "    except:\n",
    "        temp['goodbye']='-'\n",
    "    try:\n",
    "        temp['name_phrase']=(df_only_manager.text[df_only_manager.dlg_id==i][df_only_manager.idx_name!=0].values[0])\n",
    "    except:\n",
    "        temp['name_phrase']='-'\n",
    "    try:\n",
    "        temp['name']=(df_only_manager.idx_name[df_only_manager.dlg_id==i][df_only_manager.idx_name!=0].values[0])\n",
    "    except:\n",
    "        temp['name']='-'\n",
    "        \n",
    "        \n",
    "    final[i]=temp\n",
    "\n"
   ]
  },
  {
   "cell_type": "code",
   "execution_count": 19,
   "id": "90c8f945",
   "metadata": {},
   "outputs": [
    {
     "data": {
      "text/plain": [
       "{0: {'welcome': 'Алло здравствуйте',\n",
       "  'goodbye': 'Всего хорошего до свидания',\n",
       "  'name_phrase': 'Меня зовут ангелина компания диджитал бизнес звоним вам по поводу продления лицензии а мы с серым у вас скоро срок заканчивается',\n",
       "  'name': 'ангелина'},\n",
       " 1: {'welcome': 'Алло здравствуйте',\n",
       "  'goodbye': 'До свидания',\n",
       "  'name_phrase': 'Меня зовут ангелина компания диджитал бизнес звоню вам по поводу продления а мы сели обратила внимание что у вас срок заканчивается',\n",
       "  'name': 'ангелина'},\n",
       " 2: {'welcome': 'Алло здравствуйте',\n",
       "  'goodbye': '-',\n",
       "  'name_phrase': 'Меня зовут ангелина компания диджитал бизнес звоню вам по поводу продления лицензии а мастера мы с вами сотрудничали по видео там',\n",
       "  'name': 'ангелина'},\n",
       " 3: {'welcome': 'Алло дмитрий добрый день',\n",
       "  'goodbye': '-',\n",
       "  'name_phrase': 'Алло дмитрий добрый день',\n",
       "  'name': 'дмитрий'},\n",
       " 4: {'welcome': '-',\n",
       "  'goodbye': 'Во вторник все ну с вами да тогда до вторника до свидания',\n",
       "  'name_phrase': '-',\n",
       "  'name': '-'},\n",
       " 5: {'welcome': '-',\n",
       "  'goodbye': 'Ну до свидания хорошего вечера',\n",
       "  'name_phrase': 'Да это анастасия',\n",
       "  'name': 'анастасия'}}"
      ]
     },
     "execution_count": 19,
     "metadata": {},
     "output_type": "execute_result"
    }
   ],
   "source": [
    "final"
   ]
  }
 ],
 "metadata": {
  "kernelspec": {
   "display_name": "Python 3",
   "language": "python",
   "name": "python3"
  },
  "language_info": {
   "codemirror_mode": {
    "name": "ipython",
    "version": 3
   },
   "file_extension": ".py",
   "mimetype": "text/x-python",
   "name": "python",
   "nbconvert_exporter": "python",
   "pygments_lexer": "ipython3",
   "version": "3.8.6"
  }
 },
 "nbformat": 4,
 "nbformat_minor": 5
}
